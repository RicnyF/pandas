{
 "cells": [
  {
   "cell_type": "markdown",
   "id": "116c8a7a-9f92-467c-8329-e19935a4bf65",
   "metadata": {},
   "source": [
    "# Analýza dat: Meteorologická data\n",
    "\n",
    "## Meterologická data z pražského Klementina (1775)"
   ]
  },
  {
   "cell_type": "code",
   "execution_count": null,
   "id": "4c60bee1-f031-464c-bb95-a509a605dbb2",
   "metadata": {},
   "outputs": [
    {
     "name": "stderr",
     "output_type": "stream",
     "text": [
      "C:\\Users\\student\\AppData\\Local\\Temp\\ipykernel_5636\\3388460627.py:1: DeprecationWarning: \n",
      "Pyarrow will become a required dependency of pandas in the next major release of pandas (pandas 3.0),\n",
      "(to allow more performant data types, such as the Arrow string type, and better interoperability with other libraries)\n",
      "but was not found to be installed on your system.\n",
      "If this would cause problems for you,\n",
      "please provide us feedback at https://github.com/pandas-dev/pandas/issues/54466\n",
      "        \n",
      "  import pandas as pd\n"
     ]
    }
   ],
   "source": [
    "import pandas as pd\n",
    "from temperature_analytics import TemperatureAnalytics\n",
    "%matplotlib inline\n",
    "\n",
    "\n",
    "# Načtení dat z Excel souboru\n",
    "data_path = 'data/klementinum.xlsx'  # Upravte cestu k vašemu souboru\n",
    "data_sheet_name = 'data'\n",
    "temperature_data = pd.read_excel(data_path, sheet_name=data_sheet_name)\n",
    "month = ['leden', 'únor', 'březen', 'duben', 'květen', 'červen', 'červenec', 'srpen', 'září', 'říjen', 'listopad',\n",
    "             'prosinec']\n",
    "temperature_analytics = TemperatureAnalytics(temperature_data)\n",
    "\n"
   ]
  },
  {
   "cell_type": "markdown",
   "id": "b39a037a-c7d6-49e9-a0e9-236b0ba0fafe",
   "metadata": {},
   "source": [
    "# Průměrná teplota v určitém roce"
   ]
  },
  {
   "cell_type": "markdown",
   "id": "64cfb8f6-0a4f-4727-84dc-77864f0ea51f",
   "metadata": {},
   "source": [
    "## Vstupní data\n",
    "- Rok celé číslo v rozsahu 1775 až 2022"
   ]
  },
  {
   "cell_type": "code",
   "execution_count": 2,
   "id": "65a28097-b93b-4a21-b532-bf4523d5598e",
   "metadata": {},
   "outputs": [
    {
     "name": "stdin",
     "output_type": "stream",
     "text": [
      "Zadejte rok (1775-2022): 2000\n"
     ]
    },
    {
     "name": "stdout",
     "output_type": "stream",
     "text": [
      "Průměrná teplota v roce 2000: 11.96°C\n"
     ]
    }
   ],
   "source": [
    "            while (True):\n",
    "                year_input = int(input(\"Zadejte rok (1775-2022):\"))\n",
    "                average_temp = temperature_analytics.get_average_temperature(year_input)\n",
    "\n",
    "                if average_temp is not None:\n",
    "                    print(f\"Průměrná teplota v roce {year_input}: {average_temp}°C\")\n",
    "                    break"
   ]
  },
  {
   "cell_type": "markdown",
   "id": "73df80d9-f209-44ab-b000-700e2c63e418",
   "metadata": {},
   "source": [
    "# Minimální a maximální teplota v roce"
   ]
  },
  {
   "cell_type": "markdown",
   "id": "bd21e280-ff57-40fc-9092-21523fb2f14b",
   "metadata": {},
   "source": [
    "## Vstupní data\n",
    "- Rok celé číslo v rozsahu 1775 až 2022"
   ]
  },
  {
   "cell_type": "code",
   "execution_count": null,
   "id": "1e24bde2-764b-4a14-bc4c-5b2544fe7a8f",
   "metadata": {},
   "outputs": [],
   "source": [
    " while (True):\n",
    "                year_input = int(input(\"Zadejte rok (1775-2022):\"))\n",
    "                max_temp, date_max = temperature_analytics.get_max_temperature(year_input)\n",
    "                min_temp, date_min = temperature_analytics.get_min_temperature(year_input)\n",
    "                if max_temp is not None:\n",
    "                    print(\n",
    "                        f\"Maximální teplota v roce {year_input}: {max_temp}°C, datum: {date_max['den']}.{date_max['měsíc']}.{date_max['rok']}\")\n",
    "                    print(\n",
    "                        f\"Minimální teplota v roce {year_input}: {min_temp}°C, datum: {date_min['den']}.{date_min['měsíc']}.{date_min['rok']}\")\n",
    "                    break\n",
    "                else:\n",
    "                    print(\"Špatně zadaný rok\")\n"
   ]
  },
  {
   "cell_type": "markdown",
   "id": "ff631483-3f0b-4dda-9dc9-3c303a845e41",
   "metadata": {},
   "source": [
    "# Průměrné měsíční teploty v roce\n",
    "## Vstupní data\n",
    "- Rok celé číslo v rozsahu 1775 až 2022"
   ]
  },
  {
   "cell_type": "code",
   "execution_count": null,
   "id": "14d3d144-ed73-41a0-9912-e7adb895a620",
   "metadata": {},
   "outputs": [],
   "source": [
    "while(True):\n",
    "                year_input = int(input(\"Zadejte rok (1775-2022):\"))\n",
    "                monthly = temperature_analytics.get_monthly_averages(year_input)\n",
    "                if monthly is not None:\n",
    "                    print(f\"Teploty pro rok {year_input}\")\n",
    "                    for index, temp in monthly.items():\n",
    "                        print(f\"{month[index - 1].capitalize()} {temp} °C\")\n",
    "                    break"
   ]
  },
  {
   "cell_type": "markdown",
   "id": "a9f5048e-36f6-41b6-ab4f-ca9c9d45d537",
   "metadata": {},
   "source": [
    "# Porovnání průměrné teploty dvou let \n",
    "## Vstupní data\n",
    "- 2 Roky celé číslo v rozsahu 1775 až 2022"
   ]
  },
  {
   "cell_type": "code",
   "execution_count": null,
   "id": "32263427-a137-427c-891c-1c25b5648709",
   "metadata": {},
   "outputs": [],
   "source": [
    "            while (True):\n",
    "                year1 = int(input(\"Zadejte rok (1775-2022):\"))\n",
    "                year2 = int(input(\"Zadejte druhý rok (1775-2022):\"))\n",
    "                year1_temp,year2_temp, comparsion, diff = temperature_analytics.compare_years(year1,year2)\n",
    "                if year1_temp is not None:\n",
    "                    print(f\"Rok {year1} měl průměrnou teplotu {year1_temp} °C a rok {year2} měl průměrnou teplotu {year2_temp}°C. Rok {comparsion} má větší průměrnou teplotu o {diff}°C. \")\n",
    "                    break"
   ]
  },
  {
   "cell_type": "markdown",
   "id": "78e26743-27eb-4a01-a1ef-7c39b349776e",
   "metadata": {},
   "source": [
    "# Sezónní teploty\n",
    "## Vstupní data\n",
    "- 2 Roky celé číslo v rozsahu 1775 až 2022"
   ]
  },
  {
   "cell_type": "code",
   "execution_count": null,
   "id": "44eaef4b-ac17-4c0a-95dd-8f208fe77989",
   "metadata": {},
   "outputs": [],
   "source": [
    " while(True):\n",
    "                year_input = int(input(\"Zadejte rok (1775-2022):\"))\n",
    "                jaro,leto,podzim,zima = temperature_analytics.seasons(year_input)\n",
    "                if jaro is not None:\n",
    "                    print(f\"Průmerné sezónní teploty pro rok {year_input}.\")\n",
    "                    print(f\"Jaro {jaro} °C \\n\"\n",
    "                          f\"Leto {leto} °C \\n\"\n",
    "                          f\"Podzim {podzim} °C\\n\"\n",
    "                          f\"Zima {zima} °C\")\n",
    "                    break"
   ]
  },
  {
   "cell_type": "markdown",
   "id": "acb51486-af0b-470a-846b-574098093859",
   "metadata": {},
   "source": [
    "# Průměrná teplota měsíce \n",
    "## Vstupní data\n",
    "-  měsíc v rozsahu 1 až 12"
   ]
  },
  {
   "cell_type": "code",
   "execution_count": null,
   "id": "9777ee6b-dc4e-48e9-9e00-aac09ea87c40",
   "metadata": {},
   "outputs": [],
   "source": [
    " while (True):\n",
    "                month_input = int(input(\"Zadejte číslo měsíce (1-12):\"))\n",
    "                monthly = temperature_analytics.average_monthly(month_input)\n",
    "                if month is not None:\n",
    "                    print(f\"Pruměrná teplota v měsíci {month[month_input-1]} je {monthly} °C\")\n",
    "                    break\n",
    "                print(\"Špatně zadané roky\")"
   ]
  },
  {
   "cell_type": "markdown",
   "id": "dd461b18-c2d2-446d-bfd9-f35134f6fbae",
   "metadata": {},
   "source": [
    "# Vykreslení teplot období\n",
    "## Vstupní data\n",
    "- 2 Roky celé číslo v rozsahu 1775 až 2022"
   ]
  },
  {
   "cell_type": "code",
   "execution_count": null,
   "id": "e395819c-aa53-4905-bde8-779b5327d892",
   "metadata": {},
   "outputs": [],
   "source": [
    "            while (True):\n",
    "                year_start = int(input(\"Zadejte rok (1775-2022):\"))\n",
    "                year_end = int(input(\"Zadejte druhý rok (1775-2022):\"))\n",
    "                if year_start >= 1775 and year_end >= 1775 and year_start <= 2022 and year_end <= 2022:\n",
    "                    temperature_analytics.plot_annual_temperature_averages(year_start, year_end)\n",
    "                    break\n",
    "                print(\"Špatně zadané roky\")"
   ]
  },
  {
   "cell_type": "markdown",
   "id": "ac522a84-112d-4a7f-86c9-a1daa9f3043a",
   "metadata": {},
   "source": [
    "# Vykreslení maximálních a minimálních teplot v měsíci konkrétního roku\n",
    "## Vstupní data\n",
    "- Rok celé číslo v rozsahu 1775 až 2022\n",
    "- měsíc v rozsahu 1 až 12"
   ]
  },
  {
   "cell_type": "code",
   "execution_count": null,
   "id": "48b3e8df-45ad-4d1e-a4d3-a574c5f89f3e",
   "metadata": {},
   "outputs": [],
   "source": [
    "            while (True):\n",
    "                rok = int(input(\"Rok (1775-2022):\"))\n",
    "                mesic = int(input(\"Zadejte mesic (1,12):\"))\n",
    "                if (mesic >= 1 and mesic <= 12 )and( rok >= 1775 and rok <= 2022):\n",
    "                    temperature_analytics.plot_max_and_min_temp(mesic,rok)\n",
    "                    break\n",
    "                print(\"Špatně zadané roky\")"
   ]
  }
 ],
 "metadata": {
  "kernelspec": {
   "display_name": "Python 3 (ipykernel)",
   "language": "python",
   "name": "python3"
  },
  "language_info": {
   "codemirror_mode": {
    "name": "ipython",
    "version": 3
   },
   "file_extension": ".py",
   "mimetype": "text/x-python",
   "name": "python",
   "nbconvert_exporter": "python",
   "pygments_lexer": "ipython3",
   "version": "3.11.3"
  }
 },
 "nbformat": 4,
 "nbformat_minor": 5
}
